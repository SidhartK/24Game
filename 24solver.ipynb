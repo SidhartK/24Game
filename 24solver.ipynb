{
 "cells": [
  {
   "cell_type": "code",
   "execution_count": 34,
   "metadata": {},
   "outputs": [
    {
     "name": "stdout",
     "output_type": "stream",
     "text": [
      "Attempting to remove unfound element\n",
      "Expression |5 = 5 (0 ops)| not found in multiset\n",
      "Random element:  |2 = 2 (0 ops)|\n"
     ]
    },
    {
     "data": {
      "text/plain": [
       "({1: 2, 2: 3, 3: 1},\n",
       " [|1 = 1 (0 ops)|,\n",
       "  |1 = 1 (0 ops)|,\n",
       "  |2 = 2 (0 ops)|,\n",
       "  |2 = 2 (0 ops)|,\n",
       "  |2 = 2 (0 ops)|,\n",
       "  |3 = 3 (0 ops)|])"
      ]
     },
     "execution_count": 34,
     "metadata": {},
     "output_type": "execute_result"
    }
   ],
   "source": [
    "import random\n",
    "\n",
    "class Expression:\n",
    "    @classmethod\n",
    "    def create_from(cls, input) -> 'Expression':\n",
    "        if isinstance(input, cls):\n",
    "            return input\n",
    "        return Expression(input)\n",
    "    \n",
    "    def __init__(self, num, expr=None):\n",
    "        self.number = num\n",
    "        if expr is None:\n",
    "            expr = (0, str(num))\n",
    "        \n",
    "        self.num_operations = expr[0]\n",
    "        self.expression_string = expr[1]\n",
    "\n",
    "    def __eq__(self, other):\n",
    "        return (\n",
    "            self.number == other.number \n",
    "            and self.num_operations == other.num_operations\n",
    "            and self.expression_string == other.expression_string\n",
    "        )\n",
    "    \n",
    "    def __repr__(self):\n",
    "        return f\"|{self.expression_string} = {self.number} ({self.num_operations} ops)|\"\n",
    "\n",
    "class ExprMultiset(dict):\n",
    "    @classmethod\n",
    "    def from_list(cls, nums: list) -> 'ExprMultiset':\n",
    "        obj = cls()\n",
    "        for num in nums:\n",
    "            obj.add(num)\n",
    "        return obj\n",
    "    \n",
    "    @property\n",
    "    def counts(self):\n",
    "        return {num: self.count(num) for num in self} \n",
    "    \n",
    "    @property\n",
    "    def expression_list(self):\n",
    "        return [expr for num in self for expr in self.expressions(num)]\n",
    "    \n",
    "    def __init__(self, *args, **kwargs):\n",
    "        super().__init__(*args, **kwargs)\n",
    "\n",
    "    def __len__(self):\n",
    "        return len(self.expression_list)\n",
    "\n",
    "    def expressions(self, num):\n",
    "        return [expr for exprs in self[num].values() for expr in exprs]\n",
    "\n",
    "    def count(self, num):\n",
    "        return len(self.expressions(num))\n",
    "    \n",
    "    def random_choice(self, replacement=False):\n",
    "        expression = random.choice(self.expression_list)\n",
    "        if not replacement:\n",
    "            self.remove(expression)\n",
    "        return expression\n",
    "\n",
    "    def add(self, expression):\n",
    "        expression = Expression.create_from(expression)\n",
    "        \n",
    "        num = expression.number\n",
    "        num_ops = expression.num_operations\n",
    "\n",
    "        if num not in self:\n",
    "            self[num] = {num_ops: [expression]}\n",
    "        elif num_ops not in self[num]:\n",
    "            self[num][num_ops] = [expression]\n",
    "        else:\n",
    "            self[num][num_ops].append(expression)\n",
    "\n",
    "    def remove(self, expression):\n",
    "        expression = Expression.create_from(expression)\n",
    "        \n",
    "        num = expression.number\n",
    "        num_ops = expression.num_operations\n",
    "\n",
    "        if (num not in self) or (num_ops not in self[num]) or (expression not in self[num][num_ops]):\n",
    "            raise ValueError(f\"Expression {expression} not found in multiset\")\n",
    "        self[num][num_ops].remove(expression)\n",
    "        \n",
    "        if not self[num][num_ops]:\n",
    "            del self[num][num_ops]\n",
    "        if not self[num]:\n",
    "            del self[num]\n",
    "\n",
    "example = ExprMultiset.from_list([1, 2, 2, 2, 2, 3])\n",
    "example.add(1)\n",
    "example.remove(2)\n",
    "try:\n",
    "    print(\"Attempting to remove unfound element\")\n",
    "    example.remove(5)\n",
    "except ValueError as e:\n",
    "    print(e)\n",
    "    \n",
    "print(\"Random element: \", example.random_choice(replacement=True))\n",
    "example.counts, example.expression_list"
   ]
  },
  {
   "cell_type": "code",
   "execution_count": 35,
   "metadata": {},
   "outputs": [
    {
     "data": {
      "text/plain": [
       "[|(4 + 2) = 6 (1 ops)|,\n",
       " |(4 - 2) = 2 (1 ops)|,\n",
       " |(2 - 4) = -2 (1 ops)|,\n",
       " |(4 * 2) = 8 (1 ops)|,\n",
       " |(2 / 4) = 0.5 (1 ops)|,\n",
       " |(4 / 2) = 2.0 (1 ops)|]"
      ]
     },
     "execution_count": 35,
     "metadata": {},
     "output_type": "execute_result"
    }
   ],
   "source": [
    "def operate(*args):\n",
    "    if len(args) != 2:\n",
    "        raise ValueError(\"Must pass in exactly two arguments\")\n",
    "    a, b = args[0], args[1]\n",
    "    a = Expression.create_from(a)\n",
    "    b = Expression.create_from(b)\n",
    "    num_ops = a.num_operations + b.num_operations + 1\n",
    "    \n",
    "    a, a_expr_str = a.number, a.expression_string\n",
    "    b, b_expr_str = b.number, b.expression_string\n",
    "    \n",
    "    results = [\n",
    "        Expression(a + b, (num_ops, f\"({a_expr_str} + {b_expr_str})\")),\n",
    "        Expression(a - b, (num_ops, f\"({a_expr_str} - {b_expr_str})\")),\n",
    "        Expression(b - a, (num_ops, f\"({b_expr_str} - {a_expr_str})\")),\n",
    "        Expression(a * b, (num_ops, f\"({a_expr_str} * {b_expr_str})\"))\n",
    "    ]\n",
    "\n",
    "    if a != 0: \n",
    "        results.append(Expression(b / a, (num_ops, f\"({b_expr_str} / {a_expr_str})\")))\n",
    "\n",
    "    if b != 0:\n",
    "        results.append(Expression(a / b, (num_ops, f\"({a_expr_str} / {b_expr_str})\")))\n",
    "\n",
    "    return results\n",
    "\n",
    "operate(4, 2)"
   ]
  },
  {
   "cell_type": "code",
   "execution_count": 36,
   "metadata": {},
   "outputs": [
    {
     "ename": "KeyboardInterrupt",
     "evalue": "",
     "output_type": "error",
     "traceback": [
      "\u001b[0;31m---------------------------------------------------------------------------\u001b[0m",
      "\u001b[0;31mKeyboardInterrupt\u001b[0m                         Traceback (most recent call last)",
      "Cell \u001b[0;32mIn[36], line 38\u001b[0m\n\u001b[1;32m     35\u001b[0m         \u001b[38;5;28;01mreturn\u001b[39;00m final_expressions, correct_expressions\n\u001b[1;32m     37\u001b[0m s \u001b[38;5;241m=\u001b[39m Solver()\n\u001b[0;32m---> 38\u001b[0m final_expressions, correct_expressions \u001b[38;5;241m=\u001b[39m \u001b[43ms\u001b[49m\u001b[38;5;241;43m.\u001b[39;49m\u001b[43mgen_expressions\u001b[49m\u001b[43m(\u001b[49m\u001b[43m[\u001b[49m\u001b[38;5;241;43m1\u001b[39;49m\u001b[43m,\u001b[49m\u001b[43m \u001b[49m\u001b[38;5;241;43m3\u001b[39;49m\u001b[43m,\u001b[49m\u001b[43m \u001b[49m\u001b[38;5;241;43m4\u001b[39;49m\u001b[43m,\u001b[49m\u001b[43m \u001b[49m\u001b[38;5;241;43m6\u001b[39;49m\u001b[43m]\u001b[49m\u001b[43m,\u001b[49m\u001b[43m \u001b[49m\u001b[43mtarget\u001b[49m\u001b[38;5;241;43m=\u001b[39;49m\u001b[38;5;241;43m24\u001b[39;49m\u001b[43m)\u001b[49m\n\u001b[1;32m     40\u001b[0m \u001b[38;5;28mlen\u001b[39m(final_expressions)\n",
      "Cell \u001b[0;32mIn[36], line 33\u001b[0m, in \u001b[0;36mSolver.gen_expressions\u001b[0;34m(self, nums, goal_operations, target)\u001b[0m\n\u001b[1;32m     30\u001b[0m                 new_exprs\u001b[38;5;241m.\u001b[39madd(expr)\n\u001b[1;32m     31\u001b[0m                 gen_expressions_rec(new_exprs)\n\u001b[0;32m---> 33\u001b[0m \u001b[43mgen_expressions_rec\u001b[49m\u001b[43m(\u001b[49m\u001b[43mexprs\u001b[49m\u001b[43m)\u001b[49m\n\u001b[1;32m     35\u001b[0m \u001b[38;5;28;01mreturn\u001b[39;00m final_expressions, correct_expressions\n",
      "Cell \u001b[0;32mIn[36], line 31\u001b[0m, in \u001b[0;36mSolver.gen_expressions.<locals>.gen_expressions_rec\u001b[0;34m(exprs)\u001b[0m\n\u001b[1;32m     29\u001b[0m new_exprs \u001b[38;5;241m=\u001b[39m copy(exprs_copy)\n\u001b[1;32m     30\u001b[0m new_exprs\u001b[38;5;241m.\u001b[39madd(expr)\n\u001b[0;32m---> 31\u001b[0m \u001b[43mgen_expressions_rec\u001b[49m\u001b[43m(\u001b[49m\u001b[43mnew_exprs\u001b[49m\u001b[43m)\u001b[49m\n",
      "Cell \u001b[0;32mIn[36], line 31\u001b[0m, in \u001b[0;36mSolver.gen_expressions.<locals>.gen_expressions_rec\u001b[0;34m(exprs)\u001b[0m\n\u001b[1;32m     29\u001b[0m new_exprs \u001b[38;5;241m=\u001b[39m copy(exprs_copy)\n\u001b[1;32m     30\u001b[0m new_exprs\u001b[38;5;241m.\u001b[39madd(expr)\n\u001b[0;32m---> 31\u001b[0m \u001b[43mgen_expressions_rec\u001b[49m\u001b[43m(\u001b[49m\u001b[43mnew_exprs\u001b[49m\u001b[43m)\u001b[49m\n",
      "    \u001b[0;31m[... skipping similar frames: Solver.gen_expressions.<locals>.gen_expressions_rec at line 31 (33 times)]\u001b[0m\n",
      "Cell \u001b[0;32mIn[36], line 31\u001b[0m, in \u001b[0;36mSolver.gen_expressions.<locals>.gen_expressions_rec\u001b[0;34m(exprs)\u001b[0m\n\u001b[1;32m     29\u001b[0m new_exprs \u001b[38;5;241m=\u001b[39m copy(exprs_copy)\n\u001b[1;32m     30\u001b[0m new_exprs\u001b[38;5;241m.\u001b[39madd(expr)\n\u001b[0;32m---> 31\u001b[0m \u001b[43mgen_expressions_rec\u001b[49m\u001b[43m(\u001b[49m\u001b[43mnew_exprs\u001b[49m\u001b[43m)\u001b[49m\n",
      "Cell \u001b[0;32mIn[36], line 23\u001b[0m, in \u001b[0;36mSolver.gen_expressions.<locals>.gen_expressions_rec\u001b[0;34m(exprs)\u001b[0m\n\u001b[1;32m     21\u001b[0m exprs_copy\u001b[38;5;241m.\u001b[39mremove(a)\n\u001b[1;32m     22\u001b[0m exprs_copy\u001b[38;5;241m.\u001b[39mremove(b)\n\u001b[0;32m---> 23\u001b[0m result_exprs \u001b[38;5;241m=\u001b[39m \u001b[38;5;28;43mself\u001b[39;49m\u001b[38;5;241;43m.\u001b[39;49m\u001b[43mbinary_operate\u001b[49m\u001b[43m(\u001b[49m\u001b[43ma\u001b[49m\u001b[43m,\u001b[49m\u001b[43m \u001b[49m\u001b[43mb\u001b[49m\u001b[43m)\u001b[49m\n\u001b[1;32m     24\u001b[0m \u001b[38;5;28;01mfor\u001b[39;00m expr \u001b[38;5;129;01min\u001b[39;00m result_exprs:\n\u001b[1;32m     25\u001b[0m     \u001b[38;5;28;01mif\u001b[39;00m expr\u001b[38;5;241m.\u001b[39mnum_operations \u001b[38;5;241m==\u001b[39m goal_operations:\n",
      "Cell \u001b[0;32mIn[35], line 15\u001b[0m, in \u001b[0;36moperate\u001b[0;34m(*args)\u001b[0m\n\u001b[1;32m      9\u001b[0m a, a_expr_str \u001b[38;5;241m=\u001b[39m a\u001b[38;5;241m.\u001b[39mnumber, a\u001b[38;5;241m.\u001b[39mexpression_string\n\u001b[1;32m     10\u001b[0m b, b_expr_str \u001b[38;5;241m=\u001b[39m b\u001b[38;5;241m.\u001b[39mnumber, b\u001b[38;5;241m.\u001b[39mexpression_string\n\u001b[1;32m     12\u001b[0m results \u001b[38;5;241m=\u001b[39m [\n\u001b[1;32m     13\u001b[0m     Expression(a \u001b[38;5;241m+\u001b[39m b, (num_ops, \u001b[38;5;124mf\u001b[39m\u001b[38;5;124m\"\u001b[39m\u001b[38;5;124m(\u001b[39m\u001b[38;5;132;01m{\u001b[39;00ma_expr_str\u001b[38;5;132;01m}\u001b[39;00m\u001b[38;5;124m + \u001b[39m\u001b[38;5;132;01m{\u001b[39;00mb_expr_str\u001b[38;5;132;01m}\u001b[39;00m\u001b[38;5;124m)\u001b[39m\u001b[38;5;124m\"\u001b[39m)),\n\u001b[1;32m     14\u001b[0m     Expression(a \u001b[38;5;241m-\u001b[39m b, (num_ops, \u001b[38;5;124mf\u001b[39m\u001b[38;5;124m\"\u001b[39m\u001b[38;5;124m(\u001b[39m\u001b[38;5;132;01m{\u001b[39;00ma_expr_str\u001b[38;5;132;01m}\u001b[39;00m\u001b[38;5;124m - \u001b[39m\u001b[38;5;132;01m{\u001b[39;00mb_expr_str\u001b[38;5;132;01m}\u001b[39;00m\u001b[38;5;124m)\u001b[39m\u001b[38;5;124m\"\u001b[39m)),\n\u001b[0;32m---> 15\u001b[0m     \u001b[43mExpression\u001b[49m\u001b[43m(\u001b[49m\u001b[43mb\u001b[49m\u001b[43m \u001b[49m\u001b[38;5;241;43m-\u001b[39;49m\u001b[43m \u001b[49m\u001b[43ma\u001b[49m\u001b[43m,\u001b[49m\u001b[43m \u001b[49m\u001b[43m(\u001b[49m\u001b[43mnum_ops\u001b[49m\u001b[43m,\u001b[49m\u001b[43m \u001b[49m\u001b[38;5;124;43mf\u001b[39;49m\u001b[38;5;124;43m\"\u001b[39;49m\u001b[38;5;124;43m(\u001b[39;49m\u001b[38;5;132;43;01m{\u001b[39;49;00m\u001b[43mb_expr_str\u001b[49m\u001b[38;5;132;43;01m}\u001b[39;49;00m\u001b[38;5;124;43m - \u001b[39;49m\u001b[38;5;132;43;01m{\u001b[39;49;00m\u001b[43ma_expr_str\u001b[49m\u001b[38;5;132;43;01m}\u001b[39;49;00m\u001b[38;5;124;43m)\u001b[39;49m\u001b[38;5;124;43m\"\u001b[39;49m\u001b[43m)\u001b[49m\u001b[43m)\u001b[49m,\n\u001b[1;32m     16\u001b[0m     Expression(a \u001b[38;5;241m*\u001b[39m b, (num_ops, \u001b[38;5;124mf\u001b[39m\u001b[38;5;124m\"\u001b[39m\u001b[38;5;124m(\u001b[39m\u001b[38;5;132;01m{\u001b[39;00ma_expr_str\u001b[38;5;132;01m}\u001b[39;00m\u001b[38;5;124m * \u001b[39m\u001b[38;5;132;01m{\u001b[39;00mb_expr_str\u001b[38;5;132;01m}\u001b[39;00m\u001b[38;5;124m)\u001b[39m\u001b[38;5;124m\"\u001b[39m))\n\u001b[1;32m     17\u001b[0m ]\n\u001b[1;32m     19\u001b[0m \u001b[38;5;28;01mif\u001b[39;00m a \u001b[38;5;241m!=\u001b[39m \u001b[38;5;241m0\u001b[39m: \n\u001b[1;32m     20\u001b[0m     results\u001b[38;5;241m.\u001b[39mappend(Expression(b \u001b[38;5;241m/\u001b[39m a, (num_ops, \u001b[38;5;124mf\u001b[39m\u001b[38;5;124m\"\u001b[39m\u001b[38;5;124m(\u001b[39m\u001b[38;5;132;01m{\u001b[39;00mb_expr_str\u001b[38;5;132;01m}\u001b[39;00m\u001b[38;5;124m / \u001b[39m\u001b[38;5;132;01m{\u001b[39;00ma_expr_str\u001b[38;5;132;01m}\u001b[39;00m\u001b[38;5;124m)\u001b[39m\u001b[38;5;124m\"\u001b[39m)))\n",
      "Cell \u001b[0;32mIn[34], line 10\u001b[0m, in \u001b[0;36mExpression.__init__\u001b[0;34m(self, num, expr)\u001b[0m\n\u001b[1;32m      7\u001b[0m         \u001b[38;5;28;01mreturn\u001b[39;00m \u001b[38;5;28minput\u001b[39m\n\u001b[1;32m      8\u001b[0m     \u001b[38;5;28;01mreturn\u001b[39;00m Expression(\u001b[38;5;28minput\u001b[39m)\n\u001b[0;32m---> 10\u001b[0m \u001b[38;5;28;01mdef\u001b[39;00m \u001b[38;5;21m__init__\u001b[39m(\u001b[38;5;28mself\u001b[39m, num, expr\u001b[38;5;241m=\u001b[39m\u001b[38;5;28;01mNone\u001b[39;00m):\n\u001b[1;32m     11\u001b[0m     \u001b[38;5;28mself\u001b[39m\u001b[38;5;241m.\u001b[39mnumber \u001b[38;5;241m=\u001b[39m num\n\u001b[1;32m     12\u001b[0m     \u001b[38;5;28;01mif\u001b[39;00m expr \u001b[38;5;129;01mis\u001b[39;00m \u001b[38;5;28;01mNone\u001b[39;00m:\n",
      "\u001b[0;31mKeyboardInterrupt\u001b[0m: "
     ]
    }
   ],
   "source": [
    "from copy import copy, deepcopy\n",
    "import numpy as np\n",
    "\n",
    "class Solver:\n",
    "    def __init__(self, operate_fn=operate):\n",
    "        self.binary_operate = operate_fn\n",
    "\n",
    "    def gen_expressions(self, nums, goal_operations=3, target=None):\n",
    "        exprs = ExprMultiset.from_list(nums)\n",
    "        final_expressions = []\n",
    "        correct_expressions = []\n",
    "\n",
    "        def gen_expressions_rec(exprs):\n",
    "            if len(exprs) <= 1:\n",
    "                return\n",
    "            num_exprs = len(exprs.expression_list)\n",
    "            for i in range(len(exprs)):\n",
    "                for j in range(i):\n",
    "                    exprs_copy = deepcopy(exprs)\n",
    "                    a, b = exprs_copy.expression_list[i], exprs_copy.expression_list[j]\n",
    "                    exprs_copy.remove(a)\n",
    "                    exprs_copy.remove(b)\n",
    "                    result_exprs = self.binary_operate(a, b)\n",
    "                    for expr in result_exprs:\n",
    "                        if expr.num_operations == goal_operations:\n",
    "                            final_expressions.append(expr)\n",
    "                            if (target is not None) and np.abs(expr.number - target) < 1e-6:\n",
    "                                correct_expressions.append(expr)\n",
    "                        new_exprs = deepcopy(exprs_copy)\n",
    "                        new_exprs.add(expr)\n",
    "                        gen_expressions_rec(new_exprs)\n",
    "\n",
    "        gen_expressions_rec(exprs)\n",
    "\n",
    "        return final_expressions, correct_expressions\n",
    "\n",
    "s = Solver()\n",
    "final_expressions, correct_expressions = s.gen_expressions([1, 3, 4, 6], target=24)\n",
    "\n",
    "len(final_expressions)"
   ]
  },
  {
   "cell_type": "code",
   "execution_count": null,
   "metadata": {},
   "outputs": [
    {
     "data": {
      "text/plain": [
       "[|(6 / (1 - (3 / 4))) = 24.0 (3 ops)|]"
      ]
     },
     "execution_count": 33,
     "metadata": {},
     "output_type": "execute_result"
    }
   ],
   "source": [
    "correct_expressions"
   ]
  },
  {
   "cell_type": "code",
   "execution_count": null,
   "metadata": {},
   "outputs": [],
   "source": []
  },
  {
   "cell_type": "code",
   "execution_count": null,
   "metadata": {},
   "outputs": [],
   "source": []
  }
 ],
 "metadata": {
  "kernelspec": {
   "display_name": ".venv",
   "language": "python",
   "name": "python3"
  },
  "language_info": {
   "codemirror_mode": {
    "name": "ipython",
    "version": 3
   },
   "file_extension": ".py",
   "mimetype": "text/x-python",
   "name": "python",
   "nbconvert_exporter": "python",
   "pygments_lexer": "ipython3",
   "version": "3.11.6"
  }
 },
 "nbformat": 4,
 "nbformat_minor": 2
}
